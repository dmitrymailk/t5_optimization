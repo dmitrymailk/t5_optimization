{
 "cells": [
  {
   "cell_type": "markdown",
   "metadata": {},
   "source": [
    "Тест базовых возможностей"
   ]
  },
  {
   "cell_type": "code",
   "execution_count": 1,
   "metadata": {},
   "outputs": [
    {
     "name": "stderr",
     "output_type": "stream",
     "text": [
      "/opt/conda/lib/python3.10/site-packages/tqdm/auto.py:21: TqdmWarning: IProgress not found. Please update jupyter and ipywidgets. See https://ipywidgets.readthedocs.io/en/stable/user_install.html\n",
      "  from .autonotebook import tqdm as notebook_tqdm\n",
      "/home/user-name-goes-here/.local/lib/python3.10/site-packages/torch/_utils.py:776: UserWarning: TypedStorage is deprecated. It will be removed in the future and UntypedStorage will be the only storage class. This should only matter to you if you are using storages directly.  To access UntypedStorage directly, use tensor.untyped_storage() instead of tensor.storage()\n",
      "  return self.fget.__get__(instance, owner)()\n",
      "100%|██████████| 3/3 [00:03<00:00,  1.05s/it]\n",
      "  0%|          | 3/1602 [00:00<00:16, 96.80it/s]"
     ]
    },
    {
     "name": "stdout",
     "output_type": "stream",
     "text": [
      "0:00:33.761413\n",
      "{'Precision': 80.0, 'Recall': 80.0, 'F1': 80.0}\n"
     ]
    },
    {
     "name": "stderr",
     "output_type": "stream",
     "text": [
      "\n"
     ]
    }
   ],
   "source": [
    "import torch\n",
    "from sage.spelling_correction import (\n",
    "    T5ModelForSpellingCorruption,\n",
    "    RuM2M100ModelForSpellingCorrection,\n",
    "    AvailableCorrectors,\n",
    ")\n",
    "from datetime import datetime\n",
    "\n",
    "corrector = T5ModelForSpellingCorruption.from_pretrained(\n",
    "    AvailableCorrectors.ent5_large.value\n",
    ")\n",
    "\n",
    "corrector.model.to(torch.device(\"cuda:3\"))\n",
    "\n",
    "start = datetime.now()\n",
    "metrics = corrector.evaluate(\n",
    "    \"t5_optimization/sage/data/example_data/jfleg\",\n",
    "    batch_size=1,\n",
    "    prefix=\"grammar: \",\n",
    "    size=3\n",
    ")\n",
    "\n",
    "duration = datetime.now() - start\n",
    "print(duration)\n",
    "\n",
    "print(metrics)"
   ]
  },
  {
   "cell_type": "markdown",
   "metadata": {},
   "source": [
    "0:17:08.273551\n",
    "{'Precision': 83.39, 'Recall': 84.25, 'F1': 83.82}"
   ]
  },
  {
   "cell_type": "markdown",
   "metadata": {},
   "source": [
    "### Eval"
   ]
  },
  {
   "cell_type": "code",
   "execution_count": 1,
   "metadata": {},
   "outputs": [
    {
     "name": "stderr",
     "output_type": "stream",
     "text": [
      "/opt/conda/lib/python3.10/site-packages/tqdm/auto.py:21: TqdmWarning: IProgress not found. Please update jupyter and ipywidgets. See https://ipywidgets.readthedocs.io/en/stable/user_install.html\n",
      "  from .autonotebook import tqdm as notebook_tqdm\n",
      "/home/user-name-goes-here/.local/lib/python3.10/site-packages/torch/_utils.py:776: UserWarning: TypedStorage is deprecated. It will be removed in the future and UntypedStorage will be the only storage class. This should only matter to you if you are using storages directly.  To access UntypedStorage directly, use tensor.untyped_storage() instead of tensor.storage()\n",
      "  return self.fget.__get__(instance, owner)()\n",
      "100%|██████████| 1602/1602 [17:15<00:00,  1.55it/s]\n"
     ]
    },
    {
     "name": "stdout",
     "output_type": "stream",
     "text": [
      "empty string\n"
     ]
    },
    {
     "name": "stderr",
     "output_type": "stream",
     "text": [
      "100%|██████████| 1602/1602 [00:06<00:00, 239.60it/s]"
     ]
    },
    {
     "name": "stdout",
     "output_type": "stream",
     "text": [
      "0:17:21.902042\n",
      "{'Precision': 83.39, 'Recall': 84.25, 'F1': 83.82}\n"
     ]
    },
    {
     "name": "stderr",
     "output_type": "stream",
     "text": [
      "\n"
     ]
    }
   ],
   "source": [
    "import torch\n",
    "from sage.spelling_correction import (\n",
    "    T5ModelForSpellingCorruption,\n",
    "    RuM2M100ModelForSpellingCorrection,\n",
    "    AvailableCorrectors,\n",
    ")\n",
    "from datetime import datetime\n",
    "\n",
    "corrector = T5ModelForSpellingCorruption.from_pretrained(\n",
    "    AvailableCorrectors.ent5_large.value\n",
    ")\n",
    "\n",
    "corrector.model.to(torch.device(\"cuda:3\"))\n",
    "corrector.model = corrector.model.eval()\n",
    "\n",
    "# with torch.inference_mode(), torch.autocast(cache_enabled=True, device_type=\"cuda\"):\n",
    "start = datetime.now()\n",
    "metrics = corrector.evaluate(\n",
    "    \"t5_optimization/sage/data/example_data/jfleg\",\n",
    "    batch_size=1,\n",
    "    prefix=\"grammar: \",\n",
    "    # size=10,\n",
    ")\n",
    "\n",
    "duration = datetime.now() - start\n",
    "print(duration)\n",
    "\n",
    "print(metrics)"
   ]
  },
  {
   "cell_type": "markdown",
   "metadata": {},
   "source": [
    "0:17:21.902042\n",
    "{'Precision': 83.39, 'Recall': 84.25, 'F1': 83.82}"
   ]
  }
 ],
 "metadata": {
  "kernelspec": {
   "display_name": "base",
   "language": "python",
   "name": "python3"
  },
  "language_info": {
   "codemirror_mode": {
    "name": "ipython",
    "version": 3
   },
   "file_extension": ".py",
   "mimetype": "text/x-python",
   "name": "python",
   "nbconvert_exporter": "python",
   "pygments_lexer": "ipython3",
   "version": "3.10.13"
  }
 },
 "nbformat": 4,
 "nbformat_minor": 2
}
