{
 "cells": [
  {
   "cell_type": "markdown",
   "metadata": {},
   "source": [
    "https://drive.google.com/file/d/1RvLhtV27It_byQwcI70PL8Rxm7q7-VIL/view?usp=sharing"
   ]
  },
  {
   "cell_type": "markdown",
   "metadata": {},
   "source": [
    "https://pytorch.org/tutorials/recipes/recipes/dynamic_quantization.html"
   ]
  },
  {
   "cell_type": "code",
   "execution_count": null,
   "metadata": {},
   "outputs": [],
   "source": [
    "import torch\n",
    "from sage.spelling_correction import (\n",
    "    T5ModelForSpellingCorruption,\n",
    "    RuM2M100ModelForSpellingCorrection,\n",
    "    AvailableCorrectors,\n",
    ")\n",
    "from datetime import datetime\n",
    "import os\n",
    "\n",
    "\n",
    "def print_size_of_model(model, label=\"\"):\n",
    "    torch.save(model.state_dict(), \"temp.p\")\n",
    "    size = os.path.getsize(\"temp.p\")\n",
    "    print(\"model: \", label, \" \\t\", \"Size (MB):\", size / 1e3 / 1e3)\n",
    "    os.remove(\"temp.p\")\n",
    "    return size\n",
    "\n",
    "\n",
    "corrector = T5ModelForSpellingCorruption.from_pretrained(\n",
    "    AvailableCorrectors.ent5_large.value\n",
    ")\n",
    "\n",
    "corrector.model.eval()\n",
    "corrector.model.to(torch.device(\"cpu\"))\n",
    "\n",
    "full_model = print_size_of_model(corrector.model, \"fp32\")\n",
    "\n",
    "corrector.model = torch.quantization.quantize_dynamic(\n",
    "    corrector.model,\n",
    "    {torch.nn.Linear},\n",
    "    dtype=torch.qint8,\n",
    ")\n",
    "\n",
    "quant_model = print_size_of_model(corrector.model, \"int8\")\n",
    "print(\"{0:.2f} times smaller\".format(full_model / quant_model))"
   ]
  },
  {
   "cell_type": "markdown",
   "metadata": {},
   "source": [
    "model:  fp32  \t Size (MB): 2950.86721\n",
    "\n",
    "model:  int8  \t Size (MB): 870.149715\n",
    "\n",
    "3.39 times smaller"
   ]
  },
  {
   "cell_type": "code",
   "execution_count": 2,
   "metadata": {},
   "outputs": [
    {
     "name": "stderr",
     "output_type": "stream",
     "text": [
      "100%|██████████| 1602/1602 [24:49<00:00,  1.08it/s]\n"
     ]
    },
    {
     "name": "stdout",
     "output_type": "stream",
     "text": [
      "empty string\n"
     ]
    },
    {
     "name": "stderr",
     "output_type": "stream",
     "text": [
      "100%|██████████| 1602/1602 [00:06<00:00, 247.96it/s]"
     ]
    },
    {
     "name": "stdout",
     "output_type": "stream",
     "text": [
      "0:24:55.692000\n",
      "{'Precision': 82.77, 'Recall': 83.71, 'F1': 83.24}\n"
     ]
    },
    {
     "name": "stderr",
     "output_type": "stream",
     "text": [
      "\n"
     ]
    }
   ],
   "source": [
    "start = datetime.now()\n",
    "metrics = corrector.evaluate(\n",
    "    \"t5_optimization/sage/data/example_data/jfleg\",\n",
    "    batch_size=1,\n",
    "    prefix=\"grammar: \",\n",
    "    # size=3,\n",
    ")\n",
    "\n",
    "duration = datetime.now() - start\n",
    "print(duration)\n",
    "\n",
    "print(metrics)"
   ]
  },
  {
   "cell_type": "markdown",
   "metadata": {},
   "source": [
    "0:25:23.052333\n",
    "{'Precision': 82.77, 'Recall': 83.71, 'F1': 83.24}"
   ]
  },
  {
   "cell_type": "markdown",
   "metadata": {},
   "source": [
    "0:24:55.692000\n",
    "{'Precision': 82.77, 'Recall': 83.71, 'F1': 83.24}"
   ]
  },
  {
   "cell_type": "markdown",
   "metadata": {},
   "source": [
    "### default CPU"
   ]
  },
  {
   "cell_type": "code",
   "execution_count": 1,
   "metadata": {},
   "outputs": [
    {
     "name": "stderr",
     "output_type": "stream",
     "text": [
      "/opt/conda/lib/python3.10/site-packages/tqdm/auto.py:21: TqdmWarning: IProgress not found. Please update jupyter and ipywidgets. See https://ipywidgets.readthedocs.io/en/stable/user_install.html\n",
      "  from .autonotebook import tqdm as notebook_tqdm\n",
      "/home/user-name-goes-here/.local/lib/python3.10/site-packages/torch/_utils.py:776: UserWarning: TypedStorage is deprecated. It will be removed in the future and UntypedStorage will be the only storage class. This should only matter to you if you are using storages directly.  To access UntypedStorage directly, use tensor.untyped_storage() instead of tensor.storage()\n",
      "  return self.fget.__get__(instance, owner)()\n",
      "100%|██████████| 1602/1602 [1:31:51<00:00,  3.44s/it]\n"
     ]
    },
    {
     "name": "stdout",
     "output_type": "stream",
     "text": [
      "empty string\n"
     ]
    },
    {
     "name": "stderr",
     "output_type": "stream",
     "text": [
      "100%|██████████| 1602/1602 [00:06<00:00, 240.15it/s]"
     ]
    },
    {
     "name": "stdout",
     "output_type": "stream",
     "text": [
      "1:31:58.274421\n",
      "{'Precision': 83.39, 'Recall': 84.25, 'F1': 83.82}\n"
     ]
    },
    {
     "name": "stderr",
     "output_type": "stream",
     "text": [
      "\n"
     ]
    }
   ],
   "source": [
    "import torch\n",
    "from sage.spelling_correction import (\n",
    "    T5ModelForSpellingCorruption,\n",
    "    RuM2M100ModelForSpellingCorrection,\n",
    "    AvailableCorrectors,\n",
    ")\n",
    "from datetime import datetime\n",
    "\n",
    "corrector = T5ModelForSpellingCorruption.from_pretrained(\n",
    "    AvailableCorrectors.ent5_large.value\n",
    ")\n",
    "\n",
    "corrector.model.eval()\n",
    "corrector.model.to(torch.device(\"cpu\"))\n",
    "\n",
    "start = datetime.now()\n",
    "metrics = corrector.evaluate(\n",
    "    \"t5_optimization/sage/data/example_data/jfleg\",\n",
    "    batch_size=1,\n",
    "    prefix=\"grammar: \",\n",
    "    # size=3,\n",
    ")\n",
    "\n",
    "duration = datetime.now() - start\n",
    "print(duration)\n",
    "\n",
    "print(metrics)"
   ]
  },
  {
   "cell_type": "markdown",
   "metadata": {},
   "source": [
    "1:31:58.274421\n",
    "{'Precision': 83.39, 'Recall': 84.25, 'F1': 83.82}"
   ]
  }
 ],
 "metadata": {
  "kernelspec": {
   "display_name": "base",
   "language": "python",
   "name": "python3"
  },
  "language_info": {
   "codemirror_mode": {
    "name": "ipython",
    "version": 3
   },
   "file_extension": ".py",
   "mimetype": "text/x-python",
   "name": "python",
   "nbconvert_exporter": "python",
   "pygments_lexer": "ipython3",
   "version": "3.10.13"
  }
 },
 "nbformat": 4,
 "nbformat_minor": 2
}
